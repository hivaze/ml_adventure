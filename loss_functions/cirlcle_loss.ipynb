{
 "cells": [
  {
   "cell_type": "code",
   "execution_count": 1,
   "metadata": {
    "collapsed": true
   },
   "outputs": [],
   "source": [
    "import torch\n",
    "import torch.nn.functional as F\n",
    "from torch import nn, FloatTensor, IntTensor"
   ]
  },
  {
   "cell_type": "code",
   "execution_count": 137,
   "outputs": [],
   "source": [
    "class CircleLoss(nn.Module):\n",
    "    \"\"\"\n",
    "    Circle loss. Expects as input two embeddings: positive and negative.\n",
    "\n",
    "    :param m: The relaxation factor that controls the radius of the decision boundary. The paper uses 0.25 for face recognition, and 0.4 for fine-grained image retrieval (images of birds, cars, and online products).\n",
    "    :param gamma: The scale factor that determines the largest scale of each similarity score. The paper uses 256 for face recognition, and 80 for fine-grained image retrieval.\n",
    "\n",
    "    Implementation of formula described in:\n",
    "    https://kevinmusgrave.github.io/pytorch-metric-learning/losses/#circleloss\n",
    "    \"\"\"\n",
    "    def __init__(self, m = 0.4, gamma = 80):\n",
    "\n",
    "        super(CircleLoss, self).__init__()\n",
    "        self.m = m\n",
    "        self.gamma = gamma\n",
    "\n",
    "    def forward(self, positive: FloatTensor, negative: FloatTensor):\n",
    "\n",
    "        ap = F.relu(1 + self.m - positive.detach())\n",
    "        an = F.relu(negative.detach() + self.m)\n",
    "\n",
    "        p_part = -ap * self.gamma * (positive - 1 + self.m)\n",
    "        n_part = an * self.gamma * (negative - self.m)\n",
    "\n",
    "        # loss = F.softplus(torch.log(p_part.exp().sum(1)) + torch.log(n_part.exp().sum(1)))\n",
    "        loss = F.softplus(torch.logsumexp(p_part, dim=1) + torch.logsumexp(n_part, dim=1))\n",
    "        # softplus can be replaced with any differentiable activation function, logsumexp is not strictly convex\n",
    "\n",
    "        return loss.mean()"
   ],
   "metadata": {
    "collapsed": false
   }
  },
  {
   "cell_type": "markdown",
   "source": [
    "CircleLoss может принимать слишком высокие значения в зависимости от m и gamma, лучше их делать меньше, так же лосс вероятно надо склейлить"
   ],
   "metadata": {
    "collapsed": false
   }
  },
  {
   "cell_type": "code",
   "execution_count": 154,
   "outputs": [],
   "source": [
    "pos = torch.randn([10, 256])\n",
    "neg = torch.randn([10, 256])"
   ],
   "metadata": {
    "collapsed": false
   }
  },
  {
   "cell_type": "code",
   "execution_count": 160,
   "outputs": [
    {
     "data": {
      "text/plain": "tensor(1734.1755)"
     },
     "execution_count": 160,
     "metadata": {},
     "output_type": "execute_result"
    }
   ],
   "source": [
    "CircleLoss(m=0.4, gamma=80)(pos, neg)"
   ],
   "metadata": {
    "collapsed": false
   }
  },
  {
   "cell_type": "code",
   "execution_count": 118,
   "outputs": [],
   "source": [
    "pos = torch.ones([10, 256], dtype=torch.float32)\n",
    "neg = torch.ones([10, 256], dtype=torch.float32)"
   ],
   "metadata": {
    "collapsed": false
   }
  },
  {
   "cell_type": "code",
   "execution_count": 119,
   "outputs": [
    {
     "data": {
      "text/plain": "tensor(65.4904)"
     },
     "execution_count": 119,
     "metadata": {},
     "output_type": "execute_result"
    }
   ],
   "source": [
    "CircleLoss(m=0.4, gamma=80)(pos, neg)"
   ],
   "metadata": {
    "collapsed": false
   }
  },
  {
   "cell_type": "code",
   "execution_count": 112,
   "outputs": [
    {
     "data": {
      "text/plain": "tensor(0.6931)"
     },
     "execution_count": 112,
     "metadata": {},
     "output_type": "execute_result"
    }
   ],
   "source": [
    "F.softplus(torch.tensor(0.0))"
   ],
   "metadata": {
    "collapsed": false
   }
  }
 ],
 "metadata": {
  "kernelspec": {
   "display_name": "Python 3",
   "language": "python",
   "name": "python3"
  },
  "language_info": {
   "codemirror_mode": {
    "name": "ipython",
    "version": 2
   },
   "file_extension": ".py",
   "mimetype": "text/x-python",
   "name": "python",
   "nbconvert_exporter": "python",
   "pygments_lexer": "ipython2",
   "version": "2.7.6"
  }
 },
 "nbformat": 4,
 "nbformat_minor": 0
}
