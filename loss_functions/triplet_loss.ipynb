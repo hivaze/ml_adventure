{
 "cells": [
  {
   "cell_type": "code",
   "execution_count": 22,
   "metadata": {
    "collapsed": true
   },
   "outputs": [],
   "source": [
    "import torch\n",
    "import torch.nn.functional as F\n",
    "from torch import nn, FloatTensor, IntTensor"
   ]
  },
  {
   "cell_type": "code",
   "execution_count": 23,
   "outputs": [],
   "source": [
    "def create_metric(metric):\n",
    "    lambdas_dict = {\n",
    "        'euclidian': lambda x, y: F.pairwise_distance(x, y, p=2),\n",
    "        'manhattan': lambda x, y: F.pairwise_distance(x, y, p=1),\n",
    "        'cosine': lambda x, y: 1 - F.cosine_similarity(x, y)\n",
    "    }\n",
    "    assert metric.lower() in lambdas_dict.keys(), \"This metric is not supported\"\n",
    "    return lambdas_dict[metric.lower()]"
   ],
   "metadata": {
    "collapsed": false
   }
  },
  {
   "cell_type": "code",
   "execution_count": 24,
   "outputs": [],
   "source": [
    "class TripletLoss(nn.Module):\n",
    "    \"\"\"\n",
    "    Triplet loss. Given a triplet of (anchor, positive, negative), the loss minimizes the distance between anchor and positive while it\n",
    "    maximizes the distance between anchor and negative.\n",
    "\n",
    "    It computes the following loss function:\n",
    "    loss = max(||anchor - positive|| - ||anchor - negative|| + margin, 0).\n",
    "\n",
    "    :param distance_metric: Can be 'euclidian', 'manhattan' or 'cosine' (inverted to be distance).\n",
    "    :param margin: The desired difference between the anchor-positive distance and the anchor-negative distance.\n",
    "    :param do_average: Average by mean in batch or summation\n",
    "\n",
    "    For further details, see: https://en.wikipedia.org/wiki/Triplet_loss\n",
    "    \"\"\"\n",
    "\n",
    "    def __init__(self,\n",
    "                 distance_metric='cosine',\n",
    "                 margin=0.5,\n",
    "                 do_average=True):\n",
    "\n",
    "        super(TripletLoss, self).__init__()\n",
    "        self.distance_metric = create_metric(distance_metric)\n",
    "        self.margin = margin\n",
    "        self.do_average = do_average\n",
    "\n",
    "    def forward(self, anchor: FloatTensor, positive: FloatTensor, negative: FloatTensor):\n",
    "        \"\"\"\n",
    "        :param anchor: embeddings of size [bs, emd_dim]\n",
    "        :param positive: embeddings of size [bs, emd_dim]\n",
    "        :param negative: embeddings of size [bs, emd_dim]\n",
    "        \"\"\"\n",
    "\n",
    "        distance_pos = self.distance_metric(anchor, positive)\n",
    "        distance_neg = self.distance_metric(anchor, negative)\n",
    "\n",
    "        losses = F.relu(distance_pos - distance_neg + self.margin)\n",
    "\n",
    "        return losses.mean() if self.do_average else losses.sum()"
   ],
   "metadata": {
    "collapsed": false
   }
  },
  {
   "cell_type": "code",
   "execution_count": 25,
   "outputs": [],
   "source": [
    "anchor = torch.randn([10, 128])\n",
    "positive = torch.randn([10, 128])\n",
    "negative = torch.randn([10, 128])"
   ],
   "metadata": {
    "collapsed": false
   }
  },
  {
   "cell_type": "code",
   "execution_count": 26,
   "outputs": [
    {
     "data": {
      "text/plain": "tensor(0.5067)"
     },
     "execution_count": 26,
     "metadata": {},
     "output_type": "execute_result"
    }
   ],
   "source": [
    "TripletLoss(distance_metric='cosine', margin=0.5)(anchor, positive, negative)"
   ],
   "metadata": {
    "collapsed": false
   }
  },
  {
   "cell_type": "code",
   "execution_count": null,
   "outputs": [],
   "source": [],
   "metadata": {
    "collapsed": false
   }
  }
 ],
 "metadata": {
  "kernelspec": {
   "display_name": "Python 3",
   "language": "python",
   "name": "python3"
  },
  "language_info": {
   "codemirror_mode": {
    "name": "ipython",
    "version": 2
   },
   "file_extension": ".py",
   "mimetype": "text/x-python",
   "name": "python",
   "nbconvert_exporter": "python",
   "pygments_lexer": "ipython2",
   "version": "2.7.6"
  }
 },
 "nbformat": 4,
 "nbformat_minor": 0
}
