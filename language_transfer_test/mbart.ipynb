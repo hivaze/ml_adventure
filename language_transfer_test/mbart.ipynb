{
 "cells": [
  {
   "cell_type": "code",
   "execution_count": 8,
   "outputs": [],
   "source": [
    "import torch\n",
    "from torch import nn\n",
    "from torch.nn import functional as F\n",
    "from transformers import BertTokenizer, BertModel"
   ],
   "metadata": {
    "collapsed": false
   }
  },
  {
   "cell_type": "code",
   "execution_count": 2,
   "outputs": [
    {
     "data": {
      "text/plain": "Downloading:   0%|          | 0.00/625 [00:00<?, ?B/s]",
      "application/vnd.jupyter.widget-view+json": {
       "version_major": 2,
       "version_minor": 0,
       "model_id": "b0b13b1d424a453cb52a7eb99d20f476"
      }
     },
     "metadata": {},
     "output_type": "display_data"
    },
    {
     "data": {
      "text/plain": "Downloading:   0%|          | 0.00/672M [00:00<?, ?B/s]",
      "application/vnd.jupyter.widget-view+json": {
       "version_major": 2,
       "version_minor": 0,
       "model_id": "0bfa4f10e1794452a6671839c134f99a"
      }
     },
     "metadata": {},
     "output_type": "display_data"
    },
    {
     "name": "stderr",
     "output_type": "stream",
     "text": [
      "Some weights of the model checkpoint at bert-base-multilingual-uncased were not used when initializing BertModel: ['cls.seq_relationship.bias', 'cls.predictions.transform.dense.bias', 'cls.predictions.decoder.weight', 'cls.predictions.transform.dense.weight', 'cls.predictions.bias', 'cls.predictions.transform.LayerNorm.bias', 'cls.predictions.transform.LayerNorm.weight', 'cls.seq_relationship.weight']\n",
      "- This IS expected if you are initializing BertModel from the checkpoint of a model trained on another task or with another architecture (e.g. initializing a BertForSequenceClassification model from a BertForPreTraining model).\n",
      "- This IS NOT expected if you are initializing BertModel from the checkpoint of a model that you expect to be exactly identical (initializing a BertForSequenceClassification model from a BertForSequenceClassification model).\n"
     ]
    },
    {
     "data": {
      "text/plain": "Downloading:   0%|          | 0.00/872k [00:00<?, ?B/s]",
      "application/vnd.jupyter.widget-view+json": {
       "version_major": 2,
       "version_minor": 0,
       "model_id": "dc9063aba2064870a24b57c66719ee2a"
      }
     },
     "metadata": {},
     "output_type": "display_data"
    },
    {
     "data": {
      "text/plain": "Downloading:   0%|          | 0.00/28.0 [00:00<?, ?B/s]",
      "application/vnd.jupyter.widget-view+json": {
       "version_major": 2,
       "version_minor": 0,
       "model_id": "7225dbd1da4a47a4b1d2d6afa14bb66e"
      }
     },
     "metadata": {},
     "output_type": "display_data"
    }
   ],
   "source": [
    "model = BertModel.from_pretrained(\"bert-base-multilingual-uncased\")\n",
    "tokenizer = BertTokenizer.from_pretrained(\"bert-base-multilingual-uncased\")"
   ],
   "metadata": {
    "collapsed": false
   }
  },
  {
   "cell_type": "code",
   "execution_count": 77,
   "outputs": [
    {
     "data": {
      "text/plain": "(torch.Size([1, 8]), torch.Size([1, 8]))"
     },
     "execution_count": 77,
     "metadata": {},
     "output_type": "execute_result"
    }
   ],
   "source": [
    "en_tokens = tokenizer.encode('Today i will go to university', return_tensors='pt')\n",
    "ru_tokens = tokenizer.encode('Сегодня я пойду в университет', return_tensors='pt')\n",
    "en_tokens.shape, ru_tokens.shape"
   ],
   "metadata": {
    "collapsed": false
   }
  },
  {
   "cell_type": "code",
   "execution_count": 78,
   "outputs": [
    {
     "name": "stdout",
     "output_type": "stream",
     "text": [
      "['[CLS] today i will go to university [SEP]']\n",
      "['[CLS] сегодня я поиду в университет [SEP]']\n"
     ]
    }
   ],
   "source": [
    "print(tokenizer.batch_decode(en_tokens))\n",
    "print(tokenizer.batch_decode(ru_tokens))"
   ],
   "metadata": {
    "collapsed": false
   }
  },
  {
   "cell_type": "code",
   "execution_count": 79,
   "outputs": [
    {
     "name": "stdout",
     "output_type": "stream",
     "text": [
      "Overall cos sim: 0.9929603338241577\n",
      "Token 0 | [CLS] -> [CLS]; last_hidden_state cos sim: 0.993\n",
      "Token 1 | today -> сегодня; last_hidden_state cos sim: 0.671\n",
      "Token 2 | i -> я; last_hidden_state cos sim: 0.78\n",
      "Token 3 | will -> по; last_hidden_state cos sim: 0.517\n",
      "Token 4 | go -> ##иду; last_hidden_state cos sim: 0.513\n",
      "Token 5 | to -> в; last_hidden_state cos sim: 0.666\n",
      "Token 6 | university -> университет; last_hidden_state cos sim: 0.78\n",
      "Token 7 | [SEP] -> [SEP]; last_hidden_state cos sim: 0.69\n"
     ]
    }
   ],
   "source": [
    "with torch.inference_mode():\n",
    "    en_output = model(en_tokens)\n",
    "    ru_output = model(ru_tokens)\n",
    "print(f'Overall cos sim: {F.cosine_similarity(ru_output.pooler_output, en_output.pooler_output).item()}')\n",
    "for i in range(en_tokens.shape[1]):\n",
    "    sim = F.cosine_similarity(ru_output.last_hidden_state[0, i], en_output.last_hidden_state[0, i], dim=0)\n",
    "    print(f'Token {i} | {tokenizer.ids_to_tokens[en_tokens[0, i].item()]} -> {tokenizer.ids_to_tokens[ru_tokens[0, i].item()]}; last_hidden_state cos sim: {round(sim.item(), 3)}')"
   ],
   "metadata": {
    "collapsed": false
   }
  },
  {
   "cell_type": "code",
   "execution_count": 80,
   "outputs": [
    {
     "name": "stdout",
     "output_type": "stream",
     "text": [
      "Token 0 | [CLS] -> [CLS]; embedding cos sim: 1.0\n",
      "Token 1 | today -> сегодня; embedding cos sim: 0.518\n",
      "Token 2 | i -> я; embedding cos sim: 0.237\n",
      "Token 3 | will -> по; embedding cos sim: 0.092\n",
      "Token 4 | go -> ##иду; embedding cos sim: 0.048\n",
      "Token 5 | to -> в; embedding cos sim: 0.301\n",
      "Token 6 | university -> университет; embedding cos sim: 0.514\n",
      "Token 7 | [SEP] -> [SEP]; embedding cos sim: 1.0\n"
     ]
    }
   ],
   "source": [
    "with torch.inference_mode():\n",
    "    ru_embeddings = model.embeddings(ru_tokens)\n",
    "    en_embeddings = model.embeddings(en_tokens)\n",
    "for i in range(en_tokens.shape[1]):\n",
    "    sim = F.cosine_similarity(ru_embeddings[0, i], en_embeddings[0, i], dim=0)\n",
    "    print(f'Token {i} | {tokenizer.ids_to_tokens[en_tokens[0, i].item()]} -> {tokenizer.ids_to_tokens[ru_tokens[0, i].item()]}; embedding cos sim: {round(sim.item(), 3)}')"
   ],
   "metadata": {
    "collapsed": false
   }
  }
 ],
 "metadata": {
  "kernelspec": {
   "display_name": "Python 3",
   "language": "python",
   "name": "python3"
  },
  "language_info": {
   "codemirror_mode": {
    "name": "ipython",
    "version": 2
   },
   "file_extension": ".py",
   "mimetype": "text/x-python",
   "name": "python",
   "nbconvert_exporter": "python",
   "pygments_lexer": "ipython2",
   "version": "2.7.6"
  }
 },
 "nbformat": 4,
 "nbformat_minor": 0
}
