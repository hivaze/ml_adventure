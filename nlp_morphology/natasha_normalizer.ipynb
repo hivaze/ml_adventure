{
 "cells": [
  {
   "cell_type": "code",
   "execution_count": null,
   "outputs": [],
   "source": [
    "from natasha import (\n",
    "    Segmenter,\n",
    "    MorphVocab,\n",
    "    NewsEmbedding,\n",
    "    NewsMorphTagger,\n",
    "    NewsSyntaxParser,\n",
    "    Doc,\n",
    ")\n",
    "\n",
    "from natasha.doc import DocSpan"
   ],
   "metadata": {
    "collapsed": false
   }
  },
  {
   "cell_type": "code",
   "execution_count": null,
   "outputs": [],
   "source": [
    "segmenter = Segmenter()\n",
    "morph_vocab = MorphVocab()\n",
    "\n",
    "emb = NewsEmbedding()\n",
    "morph_tagger = NewsMorphTagger(emb)\n",
    "syntax_parser = NewsSyntaxParser(emb)\n",
    "\n",
    "text = \"Внезапным продолжением карибского кризиса\"\n",
    "\n",
    "doc = Doc(text)\n",
    "\n",
    "doc.segment(segmenter)\n",
    "\n",
    "doc.tag_morph(morph_tagger)\n",
    "doc.parse_syntax(syntax_parser)\n",
    "\n",
    "span = DocSpan(\n",
    "    start=0\n",
    "    , stop=len(text)\n",
    "    , type='ORG'\n",
    "    , text=text\n",
    "    , tokens=[token for token in doc.tokens]\n",
    ")\n",
    "\n",
    "span.normalize(morph_vocab)\n",
    "\n",
    "span.normal"
   ],
   "metadata": {
    "collapsed": false
   }
  }
 ],
 "metadata": {
  "kernelspec": {
   "display_name": "Python 3",
   "language": "python",
   "name": "python3"
  },
  "language_info": {
   "codemirror_mode": {
    "name": "ipython",
    "version": 2
   },
   "file_extension": ".py",
   "mimetype": "text/x-python",
   "name": "python",
   "nbconvert_exporter": "python",
   "pygments_lexer": "ipython2",
   "version": "2.7.6"
  }
 },
 "nbformat": 4,
 "nbformat_minor": 0
}
